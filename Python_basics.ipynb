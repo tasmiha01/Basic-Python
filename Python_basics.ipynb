{
 "cells": [
  {
   "cell_type": "markdown",
   "id": "5dc74942",
   "metadata": {},
   "source": [
    "# Variables in python"
   ]
  },
  {
   "cell_type": "code",
   "execution_count": 1,
   "id": "1262de04",
   "metadata": {},
   "outputs": [
    {
     "name": "stdout",
     "output_type": "stream",
     "text": [
      "Hello World!\n"
     ]
    }
   ],
   "source": [
    "print('Hello World!')"
   ]
  },
  {
   "cell_type": "code",
   "execution_count": 2,
   "id": "280f18a8",
   "metadata": {},
   "outputs": [
    {
     "name": "stdout",
     "output_type": "stream",
     "text": [
      "Data Science\n"
     ]
    }
   ],
   "source": [
    "x = 'Data Science'\n",
    "print(x)"
   ]
  },
  {
   "cell_type": "code",
   "execution_count": 3,
   "id": "db86c611",
   "metadata": {},
   "outputs": [
    {
     "data": {
      "text/plain": [
       "'Data Science'"
      ]
     },
     "execution_count": 3,
     "metadata": {},
     "output_type": "execute_result"
    }
   ],
   "source": [
    "x"
   ]
  },
  {
   "cell_type": "code",
   "execution_count": 5,
   "id": "81dcd2ca",
   "metadata": {},
   "outputs": [],
   "source": [
    "x = 50\n",
    "y = 'ai'\n",
    "z = True"
   ]
  },
  {
   "cell_type": "code",
   "execution_count": 6,
   "id": "ede42ce4",
   "metadata": {},
   "outputs": [
    {
     "data": {
      "text/plain": [
       "int"
      ]
     },
     "execution_count": 6,
     "metadata": {},
     "output_type": "execute_result"
    }
   ],
   "source": [
    "type(x)"
   ]
  },
  {
   "cell_type": "code",
   "execution_count": 7,
   "id": "fdf8c266",
   "metadata": {},
   "outputs": [
    {
     "data": {
      "text/plain": [
       "str"
      ]
     },
     "execution_count": 7,
     "metadata": {},
     "output_type": "execute_result"
    }
   ],
   "source": [
    "type(y)"
   ]
  },
  {
   "cell_type": "code",
   "execution_count": 8,
   "id": "cff59c57",
   "metadata": {},
   "outputs": [
    {
     "data": {
      "text/plain": [
       "bool"
      ]
     },
     "execution_count": 8,
     "metadata": {},
     "output_type": "execute_result"
    }
   ],
   "source": [
    "type(z)"
   ]
  },
  {
   "cell_type": "code",
   "execution_count": 18,
   "id": "96dfdaed",
   "metadata": {},
   "outputs": [
    {
     "name": "stdout",
     "output_type": "stream",
     "text": [
      "ai\n"
     ]
    }
   ],
   "source": [
    "#Function\n",
    "#Local & Global\n",
    "\n",
    "x = 'ai'        #global\n",
    "def MyFunction():\n",
    "    print (x)\n",
    "MyFunction()"
   ]
  },
  {
   "cell_type": "code",
   "execution_count": 19,
   "id": "8930d70c",
   "metadata": {},
   "outputs": [
    {
     "name": "stdout",
     "output_type": "stream",
     "text": [
      "dataset\n",
      "ai\n"
     ]
    }
   ],
   "source": [
    "x = 'ai' #global\n",
    "def MyFunction():\n",
    "    x = 'dataset' #local\n",
    "    print (x)\n",
    "MyFunction()\n",
    "print (x)"
   ]
  },
  {
   "cell_type": "code",
   "execution_count": 3,
   "id": "483cabb3",
   "metadata": {},
   "outputs": [
    {
     "name": "stdout",
     "output_type": "stream",
     "text": [
      "20\n"
     ]
    }
   ],
   "source": [
    "x = int(input())"
   ]
  },
  {
   "cell_type": "code",
   "execution_count": 1,
   "id": "9febfd56",
   "metadata": {},
   "outputs": [
    {
     "name": "stdout",
     "output_type": "stream",
     "text": [
      "20\n"
     ]
    }
   ],
   "source": [
    "y = int(input())"
   ]
  },
  {
   "cell_type": "code",
   "execution_count": 4,
   "id": "c9335dc2",
   "metadata": {},
   "outputs": [
    {
     "name": "stdout",
     "output_type": "stream",
     "text": [
      "40\n"
     ]
    }
   ],
   "source": [
    "print(x + y)"
   ]
  },
  {
   "cell_type": "code",
   "execution_count": 8,
   "id": "25bc1132",
   "metadata": {},
   "outputs": [],
   "source": [
    "x = ' data science'\n",
    "y = 'I love'"
   ]
  },
  {
   "cell_type": "code",
   "execution_count": 9,
   "id": "72705f9a",
   "metadata": {},
   "outputs": [
    {
     "name": "stdout",
     "output_type": "stream",
     "text": [
      "I love data science\n"
     ]
    }
   ],
   "source": [
    "print(y + x)"
   ]
  },
  {
   "cell_type": "markdown",
   "id": "ff62fa0a",
   "metadata": {},
   "source": [
    "FORMATTTING"
   ]
  },
  {
   "cell_type": "code",
   "execution_count": 10,
   "id": "7f9b3b35",
   "metadata": {},
   "outputs": [],
   "source": [
    "x = 100\n",
    "y = 'I have {} taka'"
   ]
  },
  {
   "cell_type": "code",
   "execution_count": 11,
   "id": "03a30a0c",
   "metadata": {},
   "outputs": [
    {
     "name": "stdout",
     "output_type": "stream",
     "text": [
      "I have 100 taka\n"
     ]
    }
   ],
   "source": [
    "print(y.format(x))"
   ]
  },
  {
   "cell_type": "markdown",
   "id": "eabeea3f",
   "metadata": {},
   "source": [
    "# Data Structure"
   ]
  },
  {
   "cell_type": "code",
   "execution_count": 12,
   "id": "9c803e5c",
   "metadata": {},
   "outputs": [],
   "source": [
    "#list #ordered #allowduplicate #changeable\n",
    "l1 = [1,2,3,4,5,6,True, 'ai']"
   ]
  },
  {
   "cell_type": "code",
   "execution_count": 13,
   "id": "f1d22a45",
   "metadata": {},
   "outputs": [
    {
     "data": {
      "text/plain": [
       "2"
      ]
     },
     "execution_count": 13,
     "metadata": {},
     "output_type": "execute_result"
    }
   ],
   "source": [
    "l1[1]"
   ]
  },
  {
   "cell_type": "code",
   "execution_count": 14,
   "id": "f51a780c",
   "metadata": {},
   "outputs": [
    {
     "data": {
      "text/plain": [
       "'ai'"
      ]
     },
     "execution_count": 14,
     "metadata": {},
     "output_type": "execute_result"
    }
   ],
   "source": [
    "l1[-1]"
   ]
  },
  {
   "cell_type": "code",
   "execution_count": 15,
   "id": "441f1aa1",
   "metadata": {},
   "outputs": [
    {
     "data": {
      "text/plain": [
       "[5, 6, True, 'ai']"
      ]
     },
     "execution_count": 15,
     "metadata": {},
     "output_type": "execute_result"
    }
   ],
   "source": [
    " l1[4:]"
   ]
  },
  {
   "cell_type": "code",
   "execution_count": 16,
   "id": "a2090454",
   "metadata": {},
   "outputs": [
    {
     "data": {
      "text/plain": [
       "[1, 2, 3, 4]"
      ]
     },
     "execution_count": 16,
     "metadata": {},
     "output_type": "execute_result"
    }
   ],
   "source": [
    "l1[:4]"
   ]
  },
  {
   "cell_type": "code",
   "execution_count": 17,
   "id": "6df40f00",
   "metadata": {},
   "outputs": [],
   "source": [
    "#Create list using list constructor\n",
    "l2 = list(('ai',2,True,[1,2,3]))"
   ]
  },
  {
   "cell_type": "code",
   "execution_count": 18,
   "id": "9e4ec87d",
   "metadata": {},
   "outputs": [
    {
     "data": {
      "text/plain": [
       "['ai', 2, True, [1, 2, 3]]"
      ]
     },
     "execution_count": 18,
     "metadata": {},
     "output_type": "execute_result"
    }
   ],
   "source": [
    "l2"
   ]
  },
  {
   "cell_type": "code",
   "execution_count": 19,
   "id": "4aad2ce1",
   "metadata": {},
   "outputs": [
    {
     "data": {
      "text/plain": [
       "[1, 2, 3]"
      ]
     },
     "execution_count": 19,
     "metadata": {},
     "output_type": "execute_result"
    }
   ],
   "source": [
    "l2[3]"
   ]
  },
  {
   "cell_type": "code",
   "execution_count": 20,
   "id": "ac21e68d",
   "metadata": {},
   "outputs": [
    {
     "data": {
      "text/plain": [
       "[1, 2, 3]"
      ]
     },
     "execution_count": 20,
     "metadata": {},
     "output_type": "execute_result"
    }
   ],
   "source": [
    "l2[-1]"
   ]
  },
  {
   "cell_type": "code",
   "execution_count": 21,
   "id": "310b2ed4",
   "metadata": {},
   "outputs": [],
   "source": [
    "l2[2] = False"
   ]
  },
  {
   "cell_type": "code",
   "execution_count": 22,
   "id": "08982b38",
   "metadata": {},
   "outputs": [
    {
     "data": {
      "text/plain": [
       "False"
      ]
     },
     "execution_count": 22,
     "metadata": {},
     "output_type": "execute_result"
    }
   ],
   "source": [
    "l2[2]"
   ]
  },
  {
   "cell_type": "code",
   "execution_count": 23,
   "id": "2ca81a27",
   "metadata": {},
   "outputs": [],
   "source": [
    "#insert\n",
    "l2.append('oishy')"
   ]
  },
  {
   "cell_type": "code",
   "execution_count": 24,
   "id": "5df18ffb",
   "metadata": {},
   "outputs": [
    {
     "data": {
      "text/plain": [
       "['ai', 2, False, [1, 2, 3], 'oishy']"
      ]
     },
     "execution_count": 24,
     "metadata": {},
     "output_type": "execute_result"
    }
   ],
   "source": [
    "l2"
   ]
  },
  {
   "cell_type": "code",
   "execution_count": 25,
   "id": "04b6aa62",
   "metadata": {},
   "outputs": [],
   "source": [
    "l2.insert(1,'oishy moni')"
   ]
  },
  {
   "cell_type": "code",
   "execution_count": 26,
   "id": "53b96b68",
   "metadata": {},
   "outputs": [
    {
     "data": {
      "text/plain": [
       "['ai', 'oishy moni', 2, False, [1, 2, 3], 'oishy']"
      ]
     },
     "execution_count": 26,
     "metadata": {},
     "output_type": "execute_result"
    }
   ],
   "source": [
    "l2"
   ]
  },
  {
   "cell_type": "code",
   "execution_count": 27,
   "id": "4f67eb6d",
   "metadata": {},
   "outputs": [],
   "source": [
    "l2.remove('oishy moni')"
   ]
  },
  {
   "cell_type": "code",
   "execution_count": 28,
   "id": "dc23f8c6",
   "metadata": {},
   "outputs": [
    {
     "data": {
      "text/plain": [
       "['ai', 2, False, [1, 2, 3], 'oishy']"
      ]
     },
     "execution_count": 28,
     "metadata": {},
     "output_type": "execute_result"
    }
   ],
   "source": [
    "l2"
   ]
  },
  {
   "cell_type": "code",
   "execution_count": 29,
   "id": "1ff25d37",
   "metadata": {},
   "outputs": [
    {
     "data": {
      "text/plain": [
       "'oishy'"
      ]
     },
     "execution_count": 29,
     "metadata": {},
     "output_type": "execute_result"
    }
   ],
   "source": [
    "l2.pop(4)"
   ]
  },
  {
   "cell_type": "code",
   "execution_count": 30,
   "id": "9dbe33c2",
   "metadata": {},
   "outputs": [
    {
     "data": {
      "text/plain": [
       "['ai', 2, False, [1, 2, 3]]"
      ]
     },
     "execution_count": 30,
     "metadata": {},
     "output_type": "execute_result"
    }
   ],
   "source": [
    "l2"
   ]
  },
  {
   "cell_type": "code",
   "execution_count": 31,
   "id": "60ace62a",
   "metadata": {},
   "outputs": [],
   "source": [
    "del l2[0]"
   ]
  },
  {
   "cell_type": "code",
   "execution_count": 32,
   "id": "cb6f90d8",
   "metadata": {},
   "outputs": [
    {
     "data": {
      "text/plain": [
       "[2, False, [1, 2, 3]]"
      ]
     },
     "execution_count": 32,
     "metadata": {},
     "output_type": "execute_result"
    }
   ],
   "source": [
    "l2"
   ]
  },
  {
   "cell_type": "markdown",
   "id": "d88107fe",
   "metadata": {},
   "source": [
    "# Tuple"
   ]
  },
  {
   "cell_type": "code",
   "execution_count": 1,
   "id": "7d939b22",
   "metadata": {},
   "outputs": [],
   "source": [
    "#ordered #allowduplicate #unchangeable\n",
    "tup1 = ('data','science',1,3,True)"
   ]
  },
  {
   "cell_type": "code",
   "execution_count": 2,
   "id": "d003f78c",
   "metadata": {},
   "outputs": [
    {
     "data": {
      "text/plain": [
       "3"
      ]
     },
     "execution_count": 2,
     "metadata": {},
     "output_type": "execute_result"
    }
   ],
   "source": [
    "tup1[-2]"
   ]
  },
  {
   "cell_type": "code",
   "execution_count": 4,
   "id": "c4d5b607",
   "metadata": {},
   "outputs": [
    {
     "data": {
      "text/plain": [
       "(1, 3)"
      ]
     },
     "execution_count": 4,
     "metadata": {},
     "output_type": "execute_result"
    }
   ],
   "source": [
    "tup1[2:4]"
   ]
  },
  {
   "cell_type": "code",
   "execution_count": 10,
   "id": "170f493f",
   "metadata": {},
   "outputs": [],
   "source": [
    "tup2 = list(tup1)"
   ]
  },
  {
   "cell_type": "code",
   "execution_count": 11,
   "id": "07b75d16",
   "metadata": {},
   "outputs": [
    {
     "data": {
      "text/plain": [
       "list"
      ]
     },
     "execution_count": 11,
     "metadata": {},
     "output_type": "execute_result"
    }
   ],
   "source": [
    "type(tup2)"
   ]
  },
  {
   "cell_type": "code",
   "execution_count": 12,
   "id": "ef548945",
   "metadata": {},
   "outputs": [],
   "source": [
    "tup2[2]= 'ai'"
   ]
  },
  {
   "cell_type": "code",
   "execution_count": 13,
   "id": "b05d9c63",
   "metadata": {},
   "outputs": [],
   "source": [
    "tup1 = tuple(tup2)"
   ]
  },
  {
   "cell_type": "code",
   "execution_count": 14,
   "id": "7804c798",
   "metadata": {},
   "outputs": [],
   "source": [
    "tup1 = ('data',)"
   ]
  },
  {
   "cell_type": "code",
   "execution_count": 16,
   "id": "4134bc1c",
   "metadata": {},
   "outputs": [],
   "source": [
    "tup3 =(1,2,3,4,5)"
   ]
  },
  {
   "cell_type": "code",
   "execution_count": 17,
   "id": "e8d25c31",
   "metadata": {},
   "outputs": [],
   "source": [
    "tup4 = tup1 + tup3"
   ]
  },
  {
   "cell_type": "code",
   "execution_count": 18,
   "id": "c40bb6d8",
   "metadata": {},
   "outputs": [
    {
     "data": {
      "text/plain": [
       "('data', 1, 2, 3, 4, 5)"
      ]
     },
     "execution_count": 18,
     "metadata": {},
     "output_type": "execute_result"
    }
   ],
   "source": [
    "tup4"
   ]
  },
  {
   "cell_type": "code",
   "execution_count": 20,
   "id": "d4bec2bd",
   "metadata": {},
   "outputs": [
    {
     "data": {
      "text/plain": [
       "('data', 1, 2, 3, 4, 5, 'data', 1, 2, 3, 4, 5, 'data', 1, 2, 3, 4, 5)"
      ]
     },
     "execution_count": 20,
     "metadata": {},
     "output_type": "execute_result"
    }
   ],
   "source": [
    "tup4 * 3"
   ]
  },
  {
   "cell_type": "code",
   "execution_count": 21,
   "id": "eb1faa84",
   "metadata": {},
   "outputs": [],
   "source": [
    "tup5 = (1,2,3,4,2,1)"
   ]
  },
  {
   "cell_type": "code",
   "execution_count": 22,
   "id": "63584b25",
   "metadata": {},
   "outputs": [
    {
     "data": {
      "text/plain": [
       "1"
      ]
     },
     "execution_count": 22,
     "metadata": {},
     "output_type": "execute_result"
    }
   ],
   "source": [
    "tup5.index(2)"
   ]
  },
  {
   "cell_type": "code",
   "execution_count": 23,
   "id": "b951505e",
   "metadata": {},
   "outputs": [
    {
     "data": {
      "text/plain": [
       "2"
      ]
     },
     "execution_count": 23,
     "metadata": {},
     "output_type": "execute_result"
    }
   ],
   "source": [
    "tup5.count(1)"
   ]
  },
  {
   "cell_type": "code",
   "execution_count": 24,
   "id": "bd6e41a3",
   "metadata": {},
   "outputs": [
    {
     "name": "stdout",
     "output_type": "stream",
     "text": [
      "Exist\n"
     ]
    }
   ],
   "source": [
    "if 1 in tup5:\n",
    "    print('Exist')"
   ]
  },
  {
   "cell_type": "code",
   "execution_count": 25,
   "id": "f21b1704",
   "metadata": {},
   "outputs": [
    {
     "name": "stdout",
     "output_type": "stream",
     "text": [
      "Not\n"
     ]
    }
   ],
   "source": [
    "if 10 in tup5:\n",
    "    print('Exist')\n",
    "else:\n",
    "    print('Not')"
   ]
  },
  {
   "cell_type": "code",
   "execution_count": null,
   "id": "6f8268e6",
   "metadata": {},
   "outputs": [],
   "source": []
  }
 ],
 "metadata": {
  "kernelspec": {
   "display_name": "Python 3",
   "language": "python",
   "name": "python3"
  },
  "language_info": {
   "codemirror_mode": {
    "name": "ipython",
    "version": 3
   },
   "file_extension": ".py",
   "mimetype": "text/x-python",
   "name": "python",
   "nbconvert_exporter": "python",
   "pygments_lexer": "ipython3",
   "version": "3.9.2"
  }
 },
 "nbformat": 4,
 "nbformat_minor": 5
}
