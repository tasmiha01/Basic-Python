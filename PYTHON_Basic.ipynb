{
 "cells": [
  {
   "cell_type": "markdown",
   "id": "46d58f0a-67e2-40ae-9650-aac8682f6c94",
   "metadata": {},
   "source": [
    "### Data types:\n",
    "1. String\n",
    "2. Integer\n",
    "3. Float\n",
    "4. Boolean"
   ]
  },
  {
   "cell_type": "code",
   "execution_count": 1,
   "id": "89e74fbf-7f43-4f8b-b85b-9522f52a02a5",
   "metadata": {},
   "outputs": [
    {
     "name": "stdout",
     "output_type": "stream",
     "text": [
      "Mejbah ahammad\n"
     ]
    }
   ],
   "source": [
    "name= \"Mejbah ahammad\"\n",
    "print(name)"
   ]
  },
  {
   "cell_type": "code",
   "execution_count": 2,
   "id": "ccc2a96e-1c59-4e54-a56d-2317a4e57697",
   "metadata": {},
   "outputs": [
    {
     "name": "stdout",
     "output_type": "stream",
     "text": [
      "14\n"
     ]
    }
   ],
   "source": [
    "print(len(name))"
   ]
  },
  {
   "cell_type": "code",
   "execution_count": 4,
   "id": "0468d543-1310-46b5-b4dc-dfbae6bfdaa4",
   "metadata": {},
   "outputs": [
    {
     "name": "stdout",
     "output_type": "stream",
     "text": [
      "Mejbah a\n"
     ]
    }
   ],
   "source": [
    "print(name[0:8]) #( [start:end+1])"
   ]
  },
  {
   "cell_type": "code",
   "execution_count": 5,
   "id": "44ef4a9a-e0c4-4c93-beb1-197cb84f1fbe",
   "metadata": {},
   "outputs": [
    {
     "data": {
      "text/plain": [
       "str"
      ]
     },
     "execution_count": 5,
     "metadata": {},
     "output_type": "execute_result"
    }
   ],
   "source": [
    "type(name)"
   ]
  },
  {
   "cell_type": "code",
   "execution_count": 6,
   "id": "2e1a469c-ca0f-4ff9-a27e-5a9444610418",
   "metadata": {},
   "outputs": [
    {
     "data": {
      "text/plain": [
       "'MEJBAH AHAMMAD'"
      ]
     },
     "execution_count": 6,
     "metadata": {},
     "output_type": "execute_result"
    }
   ],
   "source": [
    "name.upper()"
   ]
  },
  {
   "cell_type": "code",
   "execution_count": 7,
   "id": "e1738079-f90a-4c88-9dca-c4f7424b8320",
   "metadata": {},
   "outputs": [
    {
     "data": {
      "text/plain": [
       "'mejbah ahammad'"
      ]
     },
     "execution_count": 7,
     "metadata": {},
     "output_type": "execute_result"
    }
   ],
   "source": [
    "name.lower()"
   ]
  },
  {
   "cell_type": "code",
   "execution_count": 8,
   "id": "9dff81ac-06c6-4ee3-83a9-9a4d7f03eced",
   "metadata": {},
   "outputs": [
    {
     "data": {
      "text/plain": [
       "'Mejbah Ahammad'"
      ]
     },
     "execution_count": 8,
     "metadata": {},
     "output_type": "execute_result"
    }
   ],
   "source": [
    "name.title()"
   ]
  },
  {
   "cell_type": "markdown",
   "id": "85b296fe-f33d-4f4b-a298-2b682feb8ebc",
   "metadata": {},
   "source": [
    "### Number\n",
    "1. Integer\n",
    "2. Float\n",
    "3. Complex\n",
    "4. Long"
   ]
  },
  {
   "cell_type": "code",
   "execution_count": 12,
   "id": "7b6997d4-96d0-403f-8492-5f96d78adf44",
   "metadata": {},
   "outputs": [],
   "source": [
    "int_num = 4\n",
    "float_num = 4.0\n",
    "complex_num = 3.14j #k= complex(2,3) #3+9i\n",
    "#long_num = 3122244L"
   ]
  },
  {
   "cell_type": "code",
   "execution_count": 2,
   "id": "45647c2d-7852-49c5-b644-ca35daefc159",
   "metadata": {},
   "outputs": [],
   "source": [
    "k= complex(2,3)"
   ]
  },
  {
   "cell_type": "code",
   "execution_count": 13,
   "id": "c5a86fd5-3554-4b02-b1d5-56027f3355c1",
   "metadata": {},
   "outputs": [
    {
     "name": "stdout",
     "output_type": "stream",
     "text": [
      "<class 'int'>\n",
      "<class 'float'>\n",
      "<class 'complex'>\n"
     ]
    }
   ],
   "source": [
    "print(type(int_num))\n",
    "print(type(float_num))\n",
    "print(type(complex_num))"
   ]
  },
  {
   "cell_type": "markdown",
   "id": "38cfca47-b030-449d-8532-cfa60521e775",
   "metadata": {},
   "source": [
    "### List\n",
    "1. append()\n",
    "2. extend()\n",
    "3. index()\n",
    "4. insert()\n",
    "5. pop()\n",
    "6. remove()\n",
    "7. reverse()\n",
    "8. count()\n",
    "9. sort()\n",
    "10. clear()\n",
    "11. Replication() #shadow_copy\n",
    "12. Element Deletion\n",
    "13. Copying"
   ]
  },
  {
   "cell_type": "markdown",
   "id": "377ecab4-10d4-4ee6-a9f0-3771c7b6c047",
   "metadata": {},
   "source": [
    "### 1.append()"
   ]
  },
  {
   "cell_type": "code",
   "execution_count": 14,
   "id": "b7720f3a-b567-4f74-944d-cb03b39dff1d",
   "metadata": {},
   "outputs": [],
   "source": [
    "li= [1,2,3,4,5,6] #Creating list"
   ]
  },
  {
   "cell_type": "code",
   "execution_count": 15,
   "id": "b10377df-c2b7-4810-89f9-ae7ed0df5e8f",
   "metadata": {},
   "outputs": [],
   "source": [
    "li.append(7)"
   ]
  },
  {
   "cell_type": "code",
   "execution_count": 16,
   "id": "cce32a09-6c43-4a39-8957-f489a6881fe3",
   "metadata": {},
   "outputs": [
    {
     "name": "stdout",
     "output_type": "stream",
     "text": [
      "[1, 2, 3, 4, 5, 6, 7]\n"
     ]
    }
   ],
   "source": [
    "print(li)"
   ]
  },
  {
   "cell_type": "code",
   "execution_count": 17,
   "id": "3fca17d8-dd55-41d7-b5b4-b4cbacdb8165",
   "metadata": {},
   "outputs": [],
   "source": [
    "duplicate_list= [11,22,33,44]\n",
    "li.append(duplicate_list)"
   ]
  },
  {
   "cell_type": "code",
   "execution_count": 18,
   "id": "51eacf12-0d5b-4298-972b-bb22adf0d565",
   "metadata": {},
   "outputs": [
    {
     "name": "stdout",
     "output_type": "stream",
     "text": [
      "[1, 2, 3, 4, 5, 6, 7, [11, 22, 33, 44]]\n"
     ]
    }
   ],
   "source": [
    "print(li)"
   ]
  },
  {
   "cell_type": "code",
   "execution_count": 19,
   "id": "4b73002f-4060-4320-8a35-b06690c7546c",
   "metadata": {},
   "outputs": [
    {
     "name": "stdout",
     "output_type": "stream",
     "text": [
      "[1, 2, 3, 4, 5, 6, 7, [11, 22, 33, 44], 'Bangladesh']\n"
     ]
    }
   ],
   "source": [
    "name = \"Bangladesh\"\n",
    "li.append(name)\n",
    "print(li)"
   ]
  },
  {
   "cell_type": "code",
   "execution_count": 20,
   "id": "cb94b4b5-47f2-44f7-be4a-298a2b198b0f",
   "metadata": {},
   "outputs": [
    {
     "name": "stdout",
     "output_type": "stream",
     "text": [
      "[11, 22, 33, 44]\n"
     ]
    }
   ],
   "source": [
    "print(li[7]) #indexing"
   ]
  },
  {
   "cell_type": "code",
   "execution_count": 21,
   "id": "e39a5619-7b6f-4540-a0d9-387bf57f7732",
   "metadata": {},
   "outputs": [
    {
     "name": "stdout",
     "output_type": "stream",
     "text": [
      "[0, 3, 3, 6, 6, 9, 9, 12, 12, 15]\n"
     ]
    }
   ],
   "source": [
    "a = [] #blank list\n",
    "for i in range(1, 11):\n",
    "    a.append(i//2*3)\n",
    "print(a)"
   ]
  },
  {
   "cell_type": "code",
   "execution_count": 9,
   "id": "3f68f9e5-27ec-417a-a989-e7bbc1368e41",
   "metadata": {},
   "outputs": [
    {
     "name": "stdout",
     "output_type": "stream",
     "text": [
      "2.25\n",
      "2\n",
      "1\n"
     ]
    }
   ],
   "source": [
    "a= 4\n",
    "b= 9\n",
    "\n",
    "single_div = b/a\n",
    "double_div = b//a #no reminder\n",
    "module = 19%3\n",
    "print(single_div)\n",
    "print(double_div)\n",
    "print(module)"
   ]
  },
  {
   "cell_type": "markdown",
   "id": "54d5d9a7-c635-4707-b2d4-c4e29a787a25",
   "metadata": {},
   "source": [
    "### 2.Extend()"
   ]
  },
  {
   "cell_type": "code",
   "execution_count": 23,
   "id": "7f522340-bc3e-4859-a5a6-e27d9e8ff870",
   "metadata": {},
   "outputs": [],
   "source": [
    "initial_list = [1,2,3,4,5,6,7,8,9,10]\n",
    "extra_list = [0,3,3,6,6,9,9]\n",
    "\n",
    "#variable = initial_list.extend(extra_list) ----> none\n",
    "initial_list.extend(extra_list)"
   ]
  },
  {
   "cell_type": "code",
   "execution_count": 24,
   "id": "09c5e425-ba6d-4e9f-9263-1e7dee89a064",
   "metadata": {},
   "outputs": [
    {
     "data": {
      "text/plain": [
       "[1, 2, 3, 4, 5, 6, 7, 8, 9, 10, 0, 3, 3, 6, 6, 9, 9]"
      ]
     },
     "execution_count": 24,
     "metadata": {},
     "output_type": "execute_result"
    }
   ],
   "source": [
    "initial_list"
   ]
  },
  {
   "cell_type": "code",
   "execution_count": 25,
   "id": "f130a214-ade5-456c-a9bd-aa316325ab65",
   "metadata": {},
   "outputs": [],
   "source": [
    "initial_list.extend(range(33,44))"
   ]
  },
  {
   "cell_type": "code",
   "execution_count": 26,
   "id": "1bddb60b-0a08-42fe-a1b2-10985f30ded0",
   "metadata": {},
   "outputs": [
    {
     "name": "stdout",
     "output_type": "stream",
     "text": [
      "[1, 2, 3, 4, 5, 6, 7, 8, 9, 10, 0, 3, 3, 6, 6, 9, 9, 33, 34, 35, 36, 37, 38, 39, 40, 41, 42, 43]\n"
     ]
    }
   ],
   "source": [
    "print(initial_list)"
   ]
  },
  {
   "cell_type": "code",
   "execution_count": null,
   "id": "46a71e2c-351b-4f8e-ba4b-57a56574c8be",
   "metadata": {},
   "outputs": [],
   "source": [
    "# df = pd.read_csv(\"name.csv\")\n",
    "# column = df(\"age\")\n",
    "# initial_list.extend(column)"
   ]
  },
  {
   "cell_type": "markdown",
   "id": "5dd813d5-6812-469d-addc-0755ca63a2d0",
   "metadata": {},
   "source": [
    "### 4.Indexing"
   ]
  },
  {
   "cell_type": "code",
   "execution_count": 27,
   "id": "56b84e00-b0d4-4a0b-81d1-f55727878f5d",
   "metadata": {},
   "outputs": [
    {
     "name": "stdout",
     "output_type": "stream",
     "text": [
      "[1, 2, 3, 4, 5, 6, 7, 8, 9, 10, 0, 3, 3, 6, 6, 9, 9, 33, 34, 35, 36, 37, 38, 39, 40, 41, 42, 43]\n"
     ]
    }
   ],
   "source": [
    "print(initial_list)"
   ]
  },
  {
   "cell_type": "code",
   "execution_count": 28,
   "id": "3b3a5526-ee06-4fbf-98f0-877d5b2298c7",
   "metadata": {},
   "outputs": [
    {
     "name": "stdout",
     "output_type": "stream",
     "text": [
      "27\n"
     ]
    }
   ],
   "source": [
    "print(initial_list.index(43)) #Input--> Value Output ---> index"
   ]
  },
  {
   "cell_type": "code",
   "execution_count": 34,
   "id": "57fcbf27-3f8c-4f74-8e5d-7af810f9f18a",
   "metadata": {},
   "outputs": [
    {
     "data": {
      "text/plain": [
       "43"
      ]
     },
     "execution_count": 34,
     "metadata": {},
     "output_type": "execute_result"
    }
   ],
   "source": [
    "initial_list[27] #Input---> index & Output--> value"
   ]
  },
  {
   "cell_type": "code",
   "execution_count": 36,
   "id": "3b476f3b-36f9-4d93-8d2c-43a0159fc9a9",
   "metadata": {},
   "outputs": [
    {
     "name": "stdout",
     "output_type": "stream",
     "text": [
      "[1, 2, 3, 4, 430, 430, 5, 6, 7, 8, 9, 10, 0, 3, 3, 6, 6, 9, 9, 33, 34, 35, 36, 37, 38, 39, 40, 41, 42, 43]\n"
     ]
    }
   ],
   "source": [
    "initial_list.insert(4, 430) #insert index at value\n",
    "print(initial_list)"
   ]
  },
  {
   "cell_type": "code",
   "execution_count": 38,
   "id": "225efa92-0b76-4e48-b0fd-cc1391fadd3f",
   "metadata": {},
   "outputs": [
    {
     "name": "stdout",
     "output_type": "stream",
     "text": [
      "[1, 2, 3, 4, 5, 6, 7, 8, 9, 10, 0, 3, 3, 6, 6, 9, 9, 33, 34, 35, 36, 37, 38, 39, 40, 41, 42, 43]\n"
     ]
    }
   ],
   "source": [
    "initial_list.pop(4)\n",
    "print(initial_list)"
   ]
  },
  {
   "cell_type": "code",
   "execution_count": 39,
   "id": "94ff4832-d158-4a6b-bc63-c6cc9891bcb6",
   "metadata": {},
   "outputs": [
    {
     "data": {
      "text/plain": [
       "43"
      ]
     },
     "execution_count": 39,
     "metadata": {},
     "output_type": "execute_result"
    }
   ],
   "source": [
    "initial_list.pop() #parameter-->index (it removes from the last)"
   ]
  },
  {
   "cell_type": "code",
   "execution_count": 40,
   "id": "cd6e793b-5b48-421a-bc97-c5d35f563ef7",
   "metadata": {},
   "outputs": [
    {
     "name": "stdout",
     "output_type": "stream",
     "text": [
      "[1, 2, 3, 4, 5, 6, 7, 8, 9, 10, 0, 3, 3, 6, 6, 9, 9, 33, 34, 35, 36, 37, 38, 39, 40, 41, 42]\n"
     ]
    }
   ],
   "source": [
    "print(initial_list)"
   ]
  },
  {
   "cell_type": "code",
   "execution_count": 41,
   "id": "2645c373-866e-42e3-8a33-3555fc25d18e",
   "metadata": {},
   "outputs": [],
   "source": [
    "initial_list.remove(3) #parameter--> value must"
   ]
  },
  {
   "cell_type": "code",
   "execution_count": 42,
   "id": "6aa28288-07c3-4300-bed8-8b9df92298d8",
   "metadata": {},
   "outputs": [
    {
     "name": "stdout",
     "output_type": "stream",
     "text": [
      "[1, 2, 4, 5, 6, 7, 8, 9, 10, 0, 3, 3, 6, 6, 9, 9, 33, 34, 35, 36, 37, 38, 39, 40, 41, 42]\n"
     ]
    }
   ],
   "source": [
    "print(initial_list)"
   ]
  },
  {
   "cell_type": "code",
   "execution_count": 43,
   "id": "20374baa-79df-435e-8dcd-88b791702214",
   "metadata": {},
   "outputs": [],
   "source": [
    "#Revers\n",
    "initial_list.reverse()"
   ]
  },
  {
   "cell_type": "code",
   "execution_count": 44,
   "id": "48a8e503-ccfe-41df-b449-4e6963ae5493",
   "metadata": {},
   "outputs": [
    {
     "name": "stdout",
     "output_type": "stream",
     "text": [
      "[42, 41, 40, 39, 38, 37, 36, 35, 34, 33, 9, 9, 6, 6, 3, 3, 0, 10, 9, 8, 7, 6, 5, 4, 2, 1]\n"
     ]
    }
   ],
   "source": [
    "print(initial_list)"
   ]
  },
  {
   "cell_type": "code",
   "execution_count": 45,
   "id": "8940bb0f-d9c9-4dd8-87e4-381746e667f7",
   "metadata": {},
   "outputs": [
    {
     "name": "stdout",
     "output_type": "stream",
     "text": [
      "[0, 1, 2, 3, 3, 4, 5, 6, 6, 6, 7, 8, 9, 9, 9, 10, 33, 34, 35, 36, 37, 38, 39, 40, 41, 42]\n"
     ]
    }
   ],
   "source": [
    "#Sort\n",
    "initial_list.sort()\n",
    "print(initial_list)"
   ]
  },
  {
   "cell_type": "code",
   "execution_count": 10,
   "id": "b8d103eb-98e2-4dbd-a798-b7e6c281bf6f",
   "metadata": {},
   "outputs": [],
   "source": [
    "# multiple_data_list = [1, \"m\" , 3.3]\n",
    "# multiple_data_list.sort()\n",
    "# print(multiple_data_list)\n",
    "\n",
    "# \"\"\"\n",
    "# ---------------------------------------------------------------------------\n",
    "# TypeError                                 Traceback (most recent call last)\n",
    "# <ipython-input-69-44ecb413b5fc> in <module>\n",
    "#       1 multiple_data_list = [1, \"m\" , 3.3]\n",
    "# ----> 2 multiple_data_list.sort()\n",
    "#       3 print(multiple_data_list)\n",
    "\n",
    "# TypeError: '<' not supported between instances of 'str' and 'int'\n",
    "# \"\"\""
   ]
  },
  {
   "cell_type": "code",
   "execution_count": 47,
   "id": "760fceba-a58e-48a4-be9a-709a74d9732b",
   "metadata": {},
   "outputs": [
    {
     "name": "stdout",
     "output_type": "stream",
     "text": [
      "[42, 41, 40, 39, 38, 37, 36, 35, 34, 33, 10, 9, 9, 9, 8, 7, 6, 6, 6, 5, 4, 3, 3, 2, 1, 0]\n"
     ]
    }
   ],
   "source": [
    "initial_list.sort(reverse = True) #ascending to descending\n",
    "print(initial_list)\n"
   ]
  },
  {
   "cell_type": "code",
   "execution_count": null,
   "id": "a56a24e8-ed52-4bcf-9270-0fa08af10531",
   "metadata": {},
   "outputs": [],
   "source": [
    "#OOP ---> object oriented programming\n",
    "# default constructor\n",
    "# parameterized constructor\n",
    "#def __init__():"
   ]
  },
  {
   "cell_type": "code",
   "execution_count": 51,
   "id": "1a316e46-b833-44f8-93ea-2fcdbcee2843",
   "metadata": {},
   "outputs": [],
   "source": [
    "import datetime\n",
    "class Person(object):\n",
    "    def __init__(self, name, class_roll, height):\n",
    "        self.name = name\n",
    "        self.class_roll = class_roll\n",
    "        self.height = height\n",
    "        \n",
    "    def __repr__(self):\n",
    "        return self.name\n",
    "person_list = [Person(\"Mejbah\", 343, 45),\n",
    "               Person(\"Selim\", 56321, 784),\n",
    "               Person(\"salman\", 5364, 56789)]\n",
    "person_list.sort(key = lambda item : item.name)"
   ]
  },
  {
   "cell_type": "code",
   "execution_count": 52,
   "id": "ad452b46-f57f-4a3b-aa65-759c5b9f6902",
   "metadata": {},
   "outputs": [
    {
     "data": {
      "text/plain": [
       "[Mejbah, Selim, salman]"
      ]
     },
     "execution_count": 52,
     "metadata": {},
     "output_type": "execute_result"
    }
   ],
   "source": [
    "person_list"
   ]
  },
  {
   "cell_type": "code",
   "execution_count": 55,
   "id": "251f957a-196d-4d0c-b0ee-4bbe71b3176f",
   "metadata": {},
   "outputs": [
    {
     "data": {
      "text/plain": [
       "[Mejbah, salman, Selim]"
      ]
     },
     "execution_count": 55,
     "metadata": {},
     "output_type": "execute_result"
    }
   ],
   "source": [
    "person_list.sort(key = lambda item : item.class_roll)\n",
    "person_list"
   ]
  },
  {
   "cell_type": "code",
   "execution_count": 59,
   "id": "8e8494f2-908d-4bfd-aa35-e7d7c6b13b36",
   "metadata": {},
   "outputs": [],
   "source": [
    "li= [2]"
   ]
  },
  {
   "cell_type": "code",
   "execution_count": 60,
   "id": "eaa0db50-8bc2-4bbf-8643-603c8008ad37",
   "metadata": {},
   "outputs": [
    {
     "name": "stdout",
     "output_type": "stream",
     "text": [
      "Help on list object:\n",
      "\n",
      "class list(object)\n",
      " |  list(iterable=(), /)\n",
      " |  \n",
      " |  Built-in mutable sequence.\n",
      " |  \n",
      " |  If no argument is given, the constructor creates a new empty list.\n",
      " |  The argument must be an iterable if specified.\n",
      " |  \n",
      " |  Methods defined here:\n",
      " |  \n",
      " |  __add__(self, value, /)\n",
      " |      Return self+value.\n",
      " |  \n",
      " |  __contains__(self, key, /)\n",
      " |      Return key in self.\n",
      " |  \n",
      " |  __delitem__(self, key, /)\n",
      " |      Delete self[key].\n",
      " |  \n",
      " |  __eq__(self, value, /)\n",
      " |      Return self==value.\n",
      " |  \n",
      " |  __ge__(self, value, /)\n",
      " |      Return self>=value.\n",
      " |  \n",
      " |  __getattribute__(self, name, /)\n",
      " |      Return getattr(self, name).\n",
      " |  \n",
      " |  __getitem__(...)\n",
      " |      x.__getitem__(y) <==> x[y]\n",
      " |  \n",
      " |  __gt__(self, value, /)\n",
      " |      Return self>value.\n",
      " |  \n",
      " |  __iadd__(self, value, /)\n",
      " |      Implement self+=value.\n",
      " |  \n",
      " |  __imul__(self, value, /)\n",
      " |      Implement self*=value.\n",
      " |  \n",
      " |  __init__(self, /, *args, **kwargs)\n",
      " |      Initialize self.  See help(type(self)) for accurate signature.\n",
      " |  \n",
      " |  __iter__(self, /)\n",
      " |      Implement iter(self).\n",
      " |  \n",
      " |  __le__(self, value, /)\n",
      " |      Return self<=value.\n",
      " |  \n",
      " |  __len__(self, /)\n",
      " |      Return len(self).\n",
      " |  \n",
      " |  __lt__(self, value, /)\n",
      " |      Return self<value.\n",
      " |  \n",
      " |  __mul__(self, value, /)\n",
      " |      Return self*value.\n",
      " |  \n",
      " |  __ne__(self, value, /)\n",
      " |      Return self!=value.\n",
      " |  \n",
      " |  __repr__(self, /)\n",
      " |      Return repr(self).\n",
      " |  \n",
      " |  __reversed__(self, /)\n",
      " |      Return a reverse iterator over the list.\n",
      " |  \n",
      " |  __rmul__(self, value, /)\n",
      " |      Return value*self.\n",
      " |  \n",
      " |  __setitem__(self, key, value, /)\n",
      " |      Set self[key] to value.\n",
      " |  \n",
      " |  __sizeof__(self, /)\n",
      " |      Return the size of the list in memory, in bytes.\n",
      " |  \n",
      " |  append(self, object, /)\n",
      " |      Append object to the end of the list.\n",
      " |  \n",
      " |  clear(self, /)\n",
      " |      Remove all items from list.\n",
      " |  \n",
      " |  copy(self, /)\n",
      " |      Return a shallow copy of the list.\n",
      " |  \n",
      " |  count(self, value, /)\n",
      " |      Return number of occurrences of value.\n",
      " |  \n",
      " |  extend(self, iterable, /)\n",
      " |      Extend list by appending elements from the iterable.\n",
      " |  \n",
      " |  index(self, value, start=0, stop=9223372036854775807, /)\n",
      " |      Return first index of value.\n",
      " |      \n",
      " |      Raises ValueError if the value is not present.\n",
      " |  \n",
      " |  insert(self, index, object, /)\n",
      " |      Insert object before index.\n",
      " |  \n",
      " |  pop(self, index=-1, /)\n",
      " |      Remove and return item at index (default last).\n",
      " |      \n",
      " |      Raises IndexError if list is empty or index is out of range.\n",
      " |  \n",
      " |  remove(self, value, /)\n",
      " |      Remove first occurrence of value.\n",
      " |      \n",
      " |      Raises ValueError if the value is not present.\n",
      " |  \n",
      " |  reverse(self, /)\n",
      " |      Reverse *IN PLACE*.\n",
      " |  \n",
      " |  sort(self, /, *, key=None, reverse=False)\n",
      " |      Sort the list in ascending order and return None.\n",
      " |      \n",
      " |      The sort is in-place (i.e. the list itself is modified) and stable (i.e. the\n",
      " |      order of two equal elements is maintained).\n",
      " |      \n",
      " |      If a key function is given, apply it once to each list item and sort them,\n",
      " |      ascending or descending, according to their function values.\n",
      " |      \n",
      " |      The reverse flag can be set to sort in descending order.\n",
      " |  \n",
      " |  ----------------------------------------------------------------------\n",
      " |  Class methods defined here:\n",
      " |  \n",
      " |  __class_getitem__(...) from builtins.type\n",
      " |      See PEP 585\n",
      " |  \n",
      " |  ----------------------------------------------------------------------\n",
      " |  Static methods defined here:\n",
      " |  \n",
      " |  __new__(*args, **kwargs) from builtins.type\n",
      " |      Create and return a new object.  See help(type) for accurate signature.\n",
      " |  \n",
      " |  ----------------------------------------------------------------------\n",
      " |  Data and other attributes defined here:\n",
      " |  \n",
      " |  __hash__ = None\n",
      "\n"
     ]
    }
   ],
   "source": [
    "help(li)"
   ]
  },
  {
   "cell_type": "markdown",
   "id": "da0d8a49-afac-4649-8233-14a9c2a9e834",
   "metadata": {},
   "source": [
    "### Tuple"
   ]
  },
  {
   "cell_type": "code",
   "execution_count": 56,
   "id": "52f7a26d-410d-470e-8c57-465f07e2f834",
   "metadata": {},
   "outputs": [],
   "source": [
    "tup = (1,2,3,4,5,6)"
   ]
  },
  {
   "cell_type": "code",
   "execution_count": 57,
   "id": "c7a207c4-edb1-46b9-84c0-8f7521aaf4ad",
   "metadata": {},
   "outputs": [
    {
     "data": {
      "text/plain": [
       "tuple"
      ]
     },
     "execution_count": 57,
     "metadata": {},
     "output_type": "execute_result"
    }
   ],
   "source": [
    "type(tup)"
   ]
  },
  {
   "cell_type": "code",
   "execution_count": 58,
   "id": "67b42d85-17a3-4c56-b0fe-43d3b099e847",
   "metadata": {},
   "outputs": [
    {
     "name": "stdout",
     "output_type": "stream",
     "text": [
      "Help on tuple object:\n",
      "\n",
      "class tuple(object)\n",
      " |  tuple(iterable=(), /)\n",
      " |  \n",
      " |  Built-in immutable sequence.\n",
      " |  \n",
      " |  If no argument is given, the constructor returns an empty tuple.\n",
      " |  If iterable is specified the tuple is initialized from iterable's items.\n",
      " |  \n",
      " |  If the argument is a tuple, the return value is the same object.\n",
      " |  \n",
      " |  Built-in subclasses:\n",
      " |      asyncgen_hooks\n",
      " |      UnraisableHookArgs\n",
      " |  \n",
      " |  Methods defined here:\n",
      " |  \n",
      " |  __add__(self, value, /)\n",
      " |      Return self+value.\n",
      " |  \n",
      " |  __contains__(self, key, /)\n",
      " |      Return key in self.\n",
      " |  \n",
      " |  __eq__(self, value, /)\n",
      " |      Return self==value.\n",
      " |  \n",
      " |  __ge__(self, value, /)\n",
      " |      Return self>=value.\n",
      " |  \n",
      " |  __getattribute__(self, name, /)\n",
      " |      Return getattr(self, name).\n",
      " |  \n",
      " |  __getitem__(self, key, /)\n",
      " |      Return self[key].\n",
      " |  \n",
      " |  __getnewargs__(self, /)\n",
      " |  \n",
      " |  __gt__(self, value, /)\n",
      " |      Return self>value.\n",
      " |  \n",
      " |  __hash__(self, /)\n",
      " |      Return hash(self).\n",
      " |  \n",
      " |  __iter__(self, /)\n",
      " |      Implement iter(self).\n",
      " |  \n",
      " |  __le__(self, value, /)\n",
      " |      Return self<=value.\n",
      " |  \n",
      " |  __len__(self, /)\n",
      " |      Return len(self).\n",
      " |  \n",
      " |  __lt__(self, value, /)\n",
      " |      Return self<value.\n",
      " |  \n",
      " |  __mul__(self, value, /)\n",
      " |      Return self*value.\n",
      " |  \n",
      " |  __ne__(self, value, /)\n",
      " |      Return self!=value.\n",
      " |  \n",
      " |  __repr__(self, /)\n",
      " |      Return repr(self).\n",
      " |  \n",
      " |  __rmul__(self, value, /)\n",
      " |      Return value*self.\n",
      " |  \n",
      " |  count(self, value, /)\n",
      " |      Return number of occurrences of value.\n",
      " |  \n",
      " |  index(self, value, start=0, stop=9223372036854775807, /)\n",
      " |      Return first index of value.\n",
      " |      \n",
      " |      Raises ValueError if the value is not present.\n",
      " |  \n",
      " |  ----------------------------------------------------------------------\n",
      " |  Class methods defined here:\n",
      " |  \n",
      " |  __class_getitem__(...) from builtins.type\n",
      " |      See PEP 585\n",
      " |  \n",
      " |  ----------------------------------------------------------------------\n",
      " |  Static methods defined here:\n",
      " |  \n",
      " |  __new__(*args, **kwargs) from builtins.type\n",
      " |      Create and return a new object.  See help(type) for accurate signature.\n",
      "\n"
     ]
    }
   ],
   "source": [
    "help(tup)"
   ]
  },
  {
   "cell_type": "code",
   "execution_count": 61,
   "id": "7dedaace-2750-4082-b9f0-f585860a7e2e",
   "metadata": {},
   "outputs": [
    {
     "data": {
      "text/plain": [
       "tuple"
      ]
     },
     "execution_count": 61,
     "metadata": {},
     "output_type": "execute_result"
    }
   ],
   "source": [
    "#empty tuple\n",
    "t= ()\n",
    "type(t)"
   ]
  },
  {
   "cell_type": "code",
   "execution_count": 62,
   "id": "cd32473b-dc7a-4504-8eb3-2a967c649038",
   "metadata": {},
   "outputs": [],
   "source": [
    "li = [1, ]\n",
    "li2 = (1,)"
   ]
  },
  {
   "cell_type": "code",
   "execution_count": 63,
   "id": "d9571b38-63bc-4521-a39a-7e704f57a499",
   "metadata": {},
   "outputs": [],
   "source": [
    "t = \"a\","
   ]
  },
  {
   "cell_type": "code",
   "execution_count": 64,
   "id": "fe726f6e-15bb-400a-b885-7a115302092a",
   "metadata": {},
   "outputs": [
    {
     "data": {
      "text/plain": [
       "('a',)"
      ]
     },
     "execution_count": 64,
     "metadata": {},
     "output_type": "execute_result"
    }
   ],
   "source": [
    "t"
   ]
  },
  {
   "cell_type": "code",
   "execution_count": 65,
   "id": "b9473142-7b74-4c50-a139-e1d5bfd09e1d",
   "metadata": {},
   "outputs": [],
   "source": [
    "t1 = (\"Bangladesh\")"
   ]
  },
  {
   "cell_type": "code",
   "execution_count": 66,
   "id": "7233b67b-07e3-4023-a1a2-46d4ff6ea27f",
   "metadata": {},
   "outputs": [
    {
     "data": {
      "text/plain": [
       "[1, 2, 9, 4]"
      ]
     },
     "execution_count": 66,
     "metadata": {},
     "output_type": "execute_result"
    }
   ],
   "source": [
    "li = [1,2,3,4]\n",
    "li[2] = 9\n",
    "li"
   ]
  },
  {
   "cell_type": "code",
   "execution_count": 12,
   "id": "17f6c22b-fe00-4c31-8e25-ad9955d8fbdd",
   "metadata": {},
   "outputs": [
    {
     "ename": "TypeError",
     "evalue": "'tuple' object does not support item assignment",
     "output_type": "error",
     "traceback": [
      "\u001b[1;31m---------------------------------------------------------------------------\u001b[0m",
      "\u001b[1;31mTypeError\u001b[0m                                 Traceback (most recent call last)",
      "\u001b[1;32m<ipython-input-12-e95ec3b65c54>\u001b[0m in \u001b[0;36m<module>\u001b[1;34m\u001b[0m\n\u001b[0;32m      1\u001b[0m \u001b[0mtl\u001b[0m \u001b[1;33m=\u001b[0m  \u001b[1;33m(\u001b[0m\u001b[1;36m1\u001b[0m\u001b[1;33m,\u001b[0m\u001b[1;36m2\u001b[0m\u001b[1;33m,\u001b[0m\u001b[1;36m3\u001b[0m\u001b[1;33m,\u001b[0m\u001b[1;36m4\u001b[0m\u001b[1;33m)\u001b[0m\u001b[1;33m\u001b[0m\u001b[1;33m\u001b[0m\u001b[0m\n\u001b[1;32m----> 2\u001b[1;33m \u001b[0mtl\u001b[0m\u001b[1;33m[\u001b[0m\u001b[1;36m2\u001b[0m\u001b[1;33m]\u001b[0m \u001b[1;33m=\u001b[0m \u001b[1;36m9\u001b[0m\u001b[1;33m\u001b[0m\u001b[1;33m\u001b[0m\u001b[0m\n\u001b[0m\u001b[0;32m      3\u001b[0m \u001b[0mtl\u001b[0m\u001b[1;33m\u001b[0m\u001b[1;33m\u001b[0m\u001b[0m\n",
      "\u001b[1;31mTypeError\u001b[0m: 'tuple' object does not support item assignment"
     ]
    }
   ],
   "source": [
    "tl =  (1,2,3,4)\n",
    "tl[2] = 9\n",
    "tl"
   ]
  },
  {
   "cell_type": "code",
   "execution_count": 13,
   "id": "c7d29ddc-664f-432a-8ac4-c4023bf83019",
   "metadata": {},
   "outputs": [],
   "source": [
    "tl2 = (9,3,2,1)"
   ]
  },
  {
   "cell_type": "code",
   "execution_count": 14,
   "id": "9d597d8d-c7d5-4009-9ee5-509db8c83ef7",
   "metadata": {},
   "outputs": [],
   "source": [
    "tl+=tl2"
   ]
  },
  {
   "cell_type": "code",
   "execution_count": 15,
   "id": "4aa80fcf-e916-4788-b0cf-86047b346b5e",
   "metadata": {},
   "outputs": [
    {
     "data": {
      "text/plain": [
       "(1, 2, 3, 4, 9, 3, 2, 1)"
      ]
     },
     "execution_count": 15,
     "metadata": {},
     "output_type": "execute_result"
    }
   ],
   "source": [
    "tl"
   ]
  },
  {
   "cell_type": "code",
   "execution_count": 16,
   "id": "9e83c281-e1b5-465f-b567-653c7acd3978",
   "metadata": {},
   "outputs": [
    {
     "data": {
      "text/plain": [
       "(1, 2, 3, 4, 9, 3, 2, 1, 2, 2)"
      ]
     },
     "execution_count": 16,
     "metadata": {},
     "output_type": "execute_result"
    }
   ],
   "source": [
    "tl+=(2, 2)\n",
    "tl"
   ]
  },
  {
   "cell_type": "code",
   "execution_count": 17,
   "id": "86df920b-c897-459b-9797-e6cac3227396",
   "metadata": {},
   "outputs": [],
   "source": [
    "a = 1\n",
    "b = 1,"
   ]
  },
  {
   "cell_type": "code",
   "execution_count": 18,
   "id": "a4e6e880-3f4e-4399-bc08-9fe01da8608f",
   "metadata": {},
   "outputs": [
    {
     "name": "stdout",
     "output_type": "stream",
     "text": [
      "<class 'int'>\n",
      "<class 'tuple'>\n"
     ]
    }
   ],
   "source": [
    "print(type(a))\n",
    "print(type(b))"
   ]
  },
  {
   "cell_type": "code",
   "execution_count": 19,
   "id": "78cf2dea-e528-4e22-87f8-4f0e5f9b7efd",
   "metadata": {},
   "outputs": [],
   "source": [
    "a = 1,2, 3, 4"
   ]
  },
  {
   "cell_type": "code",
   "execution_count": 20,
   "id": "22b6605e-527c-40bd-abda-b61f8d35f38d",
   "metadata": {},
   "outputs": [
    {
     "data": {
      "text/plain": [
       "tuple"
      ]
     },
     "execution_count": 20,
     "metadata": {},
     "output_type": "execute_result"
    }
   ],
   "source": [
    "type(a)"
   ]
  },
  {
   "cell_type": "code",
   "execution_count": 21,
   "id": "42e5b47d-a73f-4832-8f0a-15d61231588c",
   "metadata": {},
   "outputs": [
    {
     "data": {
      "text/plain": [
       "4"
      ]
     },
     "execution_count": 21,
     "metadata": {},
     "output_type": "execute_result"
    }
   ],
   "source": [
    "max(a)"
   ]
  },
  {
   "cell_type": "code",
   "execution_count": 22,
   "id": "14321ebd-0b51-4660-a9f8-99e8bd369e2a",
   "metadata": {},
   "outputs": [
    {
     "data": {
      "text/plain": [
       "1"
      ]
     },
     "execution_count": 22,
     "metadata": {},
     "output_type": "execute_result"
    }
   ],
   "source": [
    "min(a)"
   ]
  },
  {
   "cell_type": "code",
   "execution_count": 23,
   "id": "39dbaefb-9c48-401d-bb7f-fea44f147f1e",
   "metadata": {},
   "outputs": [
    {
     "data": {
      "text/plain": [
       "2.5"
      ]
     },
     "execution_count": 23,
     "metadata": {},
     "output_type": "execute_result"
    }
   ],
   "source": [
    "import numpy as np\n",
    "np.mean(a)"
   ]
  },
  {
   "cell_type": "code",
   "execution_count": 24,
   "id": "a2cd96ed-1dcb-442a-9406-75a9c4defaf4",
   "metadata": {},
   "outputs": [
    {
     "data": {
      "text/plain": [
       "2.5"
      ]
     },
     "execution_count": 24,
     "metadata": {},
     "output_type": "execute_result"
    }
   ],
   "source": [
    "np.median(a)"
   ]
  },
  {
   "cell_type": "code",
   "execution_count": 25,
   "id": "07d41887-011b-4be3-bfe6-d597a2572a55",
   "metadata": {},
   "outputs": [
    {
     "data": {
      "text/plain": [
       "36"
      ]
     },
     "execution_count": 25,
     "metadata": {},
     "output_type": "execute_result"
    }
   ],
   "source": [
    "np.multiply(9, 4)"
   ]
  },
  {
   "cell_type": "code",
   "execution_count": 26,
   "id": "dd2ef3e9-836a-41fa-baeb-87da951f6082",
   "metadata": {},
   "outputs": [
    {
     "data": {
      "text/plain": [
       "4"
      ]
     },
     "execution_count": 26,
     "metadata": {},
     "output_type": "execute_result"
    }
   ],
   "source": [
    "len(a)"
   ]
  },
  {
   "cell_type": "code",
   "execution_count": 27,
   "id": "58adafe7-62b9-4d61-b01d-8ec4551c4d64",
   "metadata": {},
   "outputs": [],
   "source": [
    "a = (1, 2, 3)\n",
    "b= ('a', 'b', 'c')"
   ]
  },
  {
   "cell_type": "code",
   "execution_count": 28,
   "id": "088b354c-85f8-4133-ba09-349aabf609b8",
   "metadata": {},
   "outputs": [
    {
     "data": {
      "text/plain": [
       "(1, 2, 3, 'a', 'b', 'c')"
      ]
     },
     "execution_count": 28,
     "metadata": {},
     "output_type": "execute_result"
    }
   ],
   "source": [
    "a+b"
   ]
  },
  {
   "cell_type": "code",
   "execution_count": 29,
   "id": "2ddbbc57-e7db-4d8d-ae47-d2d3ddec3ef2",
   "metadata": {},
   "outputs": [],
   "source": [
    "a = list[1, 2, 3]\n",
    "b= list['a', 'b', 'c']"
   ]
  },
  {
   "cell_type": "code",
   "execution_count": 30,
   "id": "fadf5f49-3af0-495a-95ea-1aa1161cf76e",
   "metadata": {},
   "outputs": [
    {
     "ename": "TypeError",
     "evalue": "unsupported operand type(s) for +: 'types.GenericAlias' and 'types.GenericAlias'",
     "output_type": "error",
     "traceback": [
      "\u001b[1;31m---------------------------------------------------------------------------\u001b[0m",
      "\u001b[1;31mTypeError\u001b[0m                                 Traceback (most recent call last)",
      "\u001b[1;32m<ipython-input-30-ca730b97bf8a>\u001b[0m in \u001b[0;36m<module>\u001b[1;34m\u001b[0m\n\u001b[1;32m----> 1\u001b[1;33m \u001b[0ma\u001b[0m\u001b[1;33m+\u001b[0m\u001b[0mb\u001b[0m\u001b[1;33m\u001b[0m\u001b[1;33m\u001b[0m\u001b[0m\n\u001b[0m",
      "\u001b[1;31mTypeError\u001b[0m: unsupported operand type(s) for +: 'types.GenericAlias' and 'types.GenericAlias'"
     ]
    }
   ],
   "source": [
    "a+b"
   ]
  },
  {
   "cell_type": "code",
   "execution_count": null,
   "id": "3c06045d-bb26-466c-9a04-539e1ed4826e",
   "metadata": {},
   "outputs": [],
   "source": []
  },
  {
   "cell_type": "markdown",
   "id": "88e1bb69-f049-4829-abcb-c4aec072a268",
   "metadata": {},
   "source": [
    "### Dictionary"
   ]
  },
  {
   "cell_type": "code",
   "execution_count": 32,
   "id": "7613b1d6-125b-43b7-80cd-ea873679d1c4",
   "metadata": {},
   "outputs": [],
   "source": [
    "d = dict()"
   ]
  },
  {
   "cell_type": "code",
   "execution_count": 33,
   "id": "f7d5e31c-b77b-46b5-845c-36409ea6e9e2",
   "metadata": {},
   "outputs": [
    {
     "data": {
      "text/plain": [
       "dict"
      ]
     },
     "execution_count": 33,
     "metadata": {},
     "output_type": "execute_result"
    }
   ],
   "source": [
    "type(d)"
   ]
  },
  {
   "cell_type": "code",
   "execution_count": 34,
   "id": "2e577c67-50c4-48aa-856f-55d6c982373d",
   "metadata": {},
   "outputs": [],
   "source": [
    "d = dict(key = \"value\")\n",
    "d = dict([(\"key\", \"value\")])"
   ]
  },
  {
   "cell_type": "code",
   "execution_count": 35,
   "id": "6523b2bd-4408-4308-b7ed-2c592099a390",
   "metadata": {},
   "outputs": [],
   "source": [
    "info = {\"name\" : \"Bangladesh\",\n",
    "        \"year\" : 1971}"
   ]
  },
  {
   "cell_type": "code",
   "execution_count": 36,
   "id": "bd64ebcd-7047-4203-80f9-70b233faf75c",
   "metadata": {},
   "outputs": [
    {
     "data": {
      "text/plain": [
       "{'name': 'Bangladesh', 'year': 1971}"
      ]
     },
     "execution_count": 36,
     "metadata": {},
     "output_type": "execute_result"
    }
   ],
   "source": [
    "info"
   ]
  },
  {
   "cell_type": "code",
   "execution_count": 37,
   "id": "29a0d3c5-015e-4b22-9755-7c2afd13c979",
   "metadata": {},
   "outputs": [
    {
     "data": {
      "text/plain": [
       "dict_keys(['name', 'year'])"
      ]
     },
     "execution_count": 37,
     "metadata": {},
     "output_type": "execute_result"
    }
   ],
   "source": [
    "info.keys()"
   ]
  },
  {
   "cell_type": "code",
   "execution_count": 38,
   "id": "5fba656b-4212-4e42-8570-eb9a3f140f75",
   "metadata": {},
   "outputs": [
    {
     "data": {
      "text/plain": [
       "dict_values(['Bangladesh', 1971])"
      ]
     },
     "execution_count": 38,
     "metadata": {},
     "output_type": "execute_result"
    }
   ],
   "source": [
    "info.values()"
   ]
  },
  {
   "cell_type": "code",
   "execution_count": 39,
   "id": "6df02b43-f0de-4276-aad3-4da6767df793",
   "metadata": {},
   "outputs": [
    {
     "data": {
      "text/plain": [
       "dict_items([('name', 'Bangladesh'), ('year', 1971)])"
      ]
     },
     "execution_count": 39,
     "metadata": {},
     "output_type": "execute_result"
    }
   ],
   "source": [
    "info.items()"
   ]
  },
  {
   "cell_type": "code",
   "execution_count": 40,
   "id": "817d65ff-d672-4018-95e6-aa42f79ad5c1",
   "metadata": {},
   "outputs": [
    {
     "name": "stdout",
     "output_type": "stream",
     "text": [
      "name : Bangladesh\n",
      "year : 1971\n"
     ]
    }
   ],
   "source": [
    "for key, value in info.items():\n",
    "    print(key,\":\",value)"
   ]
  },
  {
   "cell_type": "code",
   "execution_count": null,
   "id": "51477a17-657f-40d3-9401-2ea2a56e6b8f",
   "metadata": {},
   "outputs": [],
   "source": []
  },
  {
   "cell_type": "markdown",
   "id": "bae30938-60dc-421f-b5df-172bdab16391",
   "metadata": {},
   "source": [
    "### Loop"
   ]
  },
  {
   "cell_type": "code",
   "execution_count": 41,
   "id": "9a521b4c-e7bf-4cff-b746-16a16fb3d5d9",
   "metadata": {},
   "outputs": [],
   "source": [
    "a = []\n",
    "for i in range(1,11):\n",
    "    a.append(i)"
   ]
  },
  {
   "cell_type": "code",
   "execution_count": 42,
   "id": "0c77895f-b66c-4eea-94f5-094774d2826b",
   "metadata": {},
   "outputs": [
    {
     "data": {
      "text/plain": [
       "[1, 2, 3, 4, 5, 6, 7, 8, 9, 10]"
      ]
     },
     "execution_count": 42,
     "metadata": {},
     "output_type": "execute_result"
    }
   ],
   "source": [
    "a"
   ]
  },
  {
   "cell_type": "code",
   "execution_count": 43,
   "id": "c2d9ca34-9c30-435d-8b11-8b458ff2d5a7",
   "metadata": {},
   "outputs": [
    {
     "name": "stdout",
     "output_type": "stream",
     "text": [
      "2\n",
      "4\n",
      "6\n",
      "8\n",
      "10\n"
     ]
    }
   ],
   "source": [
    "#Even\n",
    "for i in range(1,11):\n",
    "    if i%2 == 0:\n",
    "        print(i)"
   ]
  },
  {
   "cell_type": "code",
   "execution_count": 44,
   "id": "d902066e-0fad-4316-8c59-2d96b0ac732f",
   "metadata": {},
   "outputs": [
    {
     "name": "stdout",
     "output_type": "stream",
     "text": [
      "1\n",
      "3\n",
      "5\n",
      "7\n",
      "9\n"
     ]
    }
   ],
   "source": [
    "#ODD\n",
    "for i in range(1,11):\n",
    "    if i%2 !=0:\n",
    "        print(i)"
   ]
  },
  {
   "cell_type": "code",
   "execution_count": 87,
   "id": "f296aff6-d352-45e4-a511-11148fbd16c7",
   "metadata": {},
   "outputs": [
    {
     "name": "stdout",
     "output_type": "stream",
     "text": [
      "0\n",
      "1\n",
      "2\n",
      "Break\n"
     ]
    }
   ],
   "source": [
    "i=0\n",
    "while i<7 :\n",
    "    print(i)\n",
    "    if i ==2:\n",
    "        print(\"Break\")\n",
    "        break\n",
    "    i+=1"
   ]
  },
  {
   "cell_type": "code",
   "execution_count": null,
   "id": "c618988f-a762-4505-93a0-bf9b83dfc8f1",
   "metadata": {},
   "outputs": [],
   "source": []
  },
  {
   "cell_type": "code",
   "execution_count": null,
   "id": "9ec7856a-95e0-4fa1-ba10-7f7e254d3136",
   "metadata": {},
   "outputs": [],
   "source": [
    "#quiz"
   ]
  },
  {
   "cell_type": "code",
   "execution_count": 1,
   "id": "cdf91e27-b027-4b3f-9bb7-82cb819c7bc1",
   "metadata": {},
   "outputs": [
    {
     "name": "stdout",
     "output_type": "stream",
     "text": [
      "['ab', 'cd']\n"
     ]
    }
   ],
   "source": [
    "x= [\"ab\",\"cd\"]\n",
    "for i in x:\n",
    "    i.upper()\n",
    "print(x)"
   ]
  },
  {
   "cell_type": "code",
   "execution_count": 3,
   "id": "3384d5aa-6698-488c-b381-43111418fc13",
   "metadata": {},
   "outputs": [
    {
     "data": {
      "text/plain": [
       "'hello2hello2'"
      ]
     },
     "execution_count": 3,
     "metadata": {},
     "output_type": "execute_result"
    }
   ],
   "source": [
    "def example(a):\n",
    "    a= a+\"2\"\n",
    "    a= a*2\n",
    "    return a\n",
    "example(\"hello\")"
   ]
  },
  {
   "cell_type": "code",
   "execution_count": 4,
   "id": "bdddfdac-0ed3-4594-989c-b6319ce8854d",
   "metadata": {},
   "outputs": [
    {
     "data": {
      "text/plain": [
       "'o'"
      ]
     },
     "execution_count": 4,
     "metadata": {},
     "output_type": "execute_result"
    }
   ],
   "source": [
    "str1 = \"hello\"\n",
    "str2 =\",\"\n",
    "str3 =\"world\"\n",
    "str1[-1:]"
   ]
  },
  {
   "cell_type": "code",
   "execution_count": 6,
   "id": "8d509cb4-11fa-4ef1-be6c-d34aaaa88c36",
   "metadata": {},
   "outputs": [
    {
     "name": "stdout",
     "output_type": "stream",
     "text": [
      "1\n",
      "2\n"
     ]
    }
   ],
   "source": [
    "i=1 \n",
    "while True:\n",
    "    if i%3 == 0:\n",
    "        break\n",
    "    print(i)\n",
    "    \n",
    "    i+=1"
   ]
  },
  {
   "cell_type": "code",
   "execution_count": 7,
   "id": "89c6480c-8fae-4640-b966-1e387b2aacea",
   "metadata": {},
   "outputs": [
    {
     "data": {
      "text/plain": [
       "'he'"
      ]
     },
     "execution_count": 7,
     "metadata": {},
     "output_type": "execute_result"
    }
   ],
   "source": [
    "str = \"hello\"\n",
    "str[:2]"
   ]
  },
  {
   "cell_type": "code",
   "execution_count": 8,
   "id": "2f2b0126-e4fe-462a-9eab-fc5c2899dbb8",
   "metadata": {},
   "outputs": [
    {
     "data": {
      "text/plain": [
       "7"
      ]
     },
     "execution_count": 8,
     "metadata": {},
     "output_type": "execute_result"
    }
   ],
   "source": [
    "3^4"
   ]
  },
  {
   "cell_type": "code",
   "execution_count": null,
   "id": "03666e0b-9349-45c4-9b50-c89800c97c73",
   "metadata": {},
   "outputs": [],
   "source": []
  }
 ],
 "metadata": {
  "kernelspec": {
   "display_name": "Python 3",
   "language": "python",
   "name": "python3"
  },
  "language_info": {
   "codemirror_mode": {
    "name": "ipython",
    "version": 3
   },
   "file_extension": ".py",
   "mimetype": "text/x-python",
   "name": "python",
   "nbconvert_exporter": "python",
   "pygments_lexer": "ipython3",
   "version": "3.9.2"
  }
 },
 "nbformat": 4,
 "nbformat_minor": 5
}
